{
  "cells": [
    {
      "cell_type": "code",
      "execution_count": 1,
      "metadata": {
        "colab": {
          "base_uri": "https://localhost:8080/"
        },
        "id": "mQyNxGZbF-TI",
        "outputId": "9e3e273f-e298-42d7-b100-453befadca63"
      },
      "outputs": [
        {
          "output_type": "stream",
          "name": "stdout",
          "text": [
            "Mounted at /content/gdrive\n"
          ]
        }
      ],
      "source": [
        "from google.colab import drive\n",
        "drive.mount('/content/gdrive')"
      ]
    },
    {
      "cell_type": "markdown",
      "source": [],
      "metadata": {
        "id": "CzCJTzMIgOQx"
      }
    },
    {
      "cell_type": "markdown",
      "source": [
        "##**Data Exploration and File matching**\n",
        "\n",
        "> This cell uses the nibabel library to load NIfTI images and extracts their dimensions. It assumes consistent filenames for images and labels, matching them based on a specified pattern, and prints the dimensions of each matched pair.\n",
        "\n",
        "> Following this, we have installed the necessary libraries for further model processings"
      ],
      "metadata": {
        "id": "sl-4ZnnZgOZW"
      }
    },
    {
      "cell_type": "code",
      "execution_count": 2,
      "metadata": {
        "colab": {
          "base_uri": "https://localhost:8080/"
        },
        "id": "lm96XrAfGCWz",
        "outputId": "41538272-2171-4658-80be-da2626985c17"
      },
      "outputs": [
        {
          "output_type": "stream",
          "name": "stdout",
          "text": [
            "Image: 1.3.6.1.4.1.14519.5.2.1.6279.6001.188376349804761988217597754952_0000.nii.gz - Dimensions: (512, 512, 245)\n",
            "Label: 1.3.6.1.4.1.14519.5.2.1.6279.6001.188376349804761988217597754952.nii.gz - Dimensions: (512, 512, 245)\n",
            "Image: 1.3.6.1.4.1.14519.5.2.1.6279.6001.249530219848512542668813996730_0000.nii.gz - Dimensions: (512, 512, 481)\n",
            "Label: 1.3.6.1.4.1.14519.5.2.1.6279.6001.249530219848512542668813996730.nii.gz - Dimensions: (512, 512, 481)\n",
            "Image: 1.3.6.1.4.1.14519.5.2.1.6279.6001.146429221666426688999739595820_0000.nii.gz - Dimensions: (512, 512, 730)\n",
            "Label: 1.3.6.1.4.1.14519.5.2.1.6279.6001.146429221666426688999739595820.nii.gz - Dimensions: (512, 512, 730)\n",
            "Image: 1.3.6.1.4.1.14519.5.2.1.6279.6001.139713436241461669335487719526_0000.nii.gz - Dimensions: (512, 512, 140)\n",
            "Label: 1.3.6.1.4.1.14519.5.2.1.6279.6001.139713436241461669335487719526.nii.gz - Dimensions: (512, 512, 140)\n",
            "Image: 1.3.6.1.4.1.14519.5.2.1.6279.6001.109002525524522225658609808059_0000.nii.gz - Dimensions: (512, 512, 161)\n",
            "Label: 1.3.6.1.4.1.14519.5.2.1.6279.6001.109002525524522225658609808059.nii.gz - Dimensions: (512, 512, 161)\n",
            "Image: 1.3.6.1.4.1.14519.5.2.1.6279.6001.219087313261026510628926082729_0000.nii.gz - Dimensions: (512, 512, 280)\n",
            "Label: 1.3.6.1.4.1.14519.5.2.1.6279.6001.219087313261026510628926082729.nii.gz - Dimensions: (512, 512, 280)\n",
            "Image: 1.3.6.1.4.1.14519.5.2.1.6279.6001.227962600322799211676960828223_0000.nii.gz - Dimensions: (512, 512, 209)\n",
            "Label: 1.3.6.1.4.1.14519.5.2.1.6279.6001.227962600322799211676960828223.nii.gz - Dimensions: (512, 512, 209)\n",
            "Image: 1.3.6.1.4.1.14519.5.2.1.6279.6001.134996872583497382954024478441_0000.nii.gz - Dimensions: (512, 512, 197)\n",
            "Label: 1.3.6.1.4.1.14519.5.2.1.6279.6001.134996872583497382954024478441.nii.gz - Dimensions: (512, 512, 197)\n",
            "Image: 1.3.6.1.4.1.14519.5.2.1.6279.6001.122763913896761494371822656720_0000.nii.gz - Dimensions: (512, 512, 124)\n",
            "Label: 1.3.6.1.4.1.14519.5.2.1.6279.6001.122763913896761494371822656720.nii.gz - Dimensions: (512, 512, 124)\n",
            "Image: 1.3.6.1.4.1.14519.5.2.1.6279.6001.302134342469412607966016057827_0000.nii.gz - Dimensions: (512, 512, 369)\n",
            "Label: 1.3.6.1.4.1.14519.5.2.1.6279.6001.302134342469412607966016057827.nii.gz - Dimensions: (512, 512, 369)\n",
            "Image: 1.3.6.1.4.1.14519.5.2.1.6279.6001.241570579760883349458693655367_0000.nii.gz - Dimensions: (512, 512, 325)\n",
            "Label: 1.3.6.1.4.1.14519.5.2.1.6279.6001.241570579760883349458693655367.nii.gz - Dimensions: (512, 512, 325)\n",
            "Image: 1.3.6.1.4.1.14519.5.2.1.6279.6001.281489753704424911132261151767_0000.nii.gz - Dimensions: (512, 512, 471)\n",
            "Label: 1.3.6.1.4.1.14519.5.2.1.6279.6001.281489753704424911132261151767.nii.gz - Dimensions: (512, 512, 471)\n",
            "Image: 1.3.6.1.4.1.14519.5.2.1.6279.6001.111172165674661221381920536987_0000.nii.gz - Dimensions: (512, 512, 538)\n",
            "Label: 1.3.6.1.4.1.14519.5.2.1.6279.6001.111172165674661221381920536987.nii.gz - Dimensions: (512, 512, 538)\n",
            "Image: 1.3.6.1.4.1.14519.5.2.1.6279.6001.194465340552956447447896167830_0000.nii.gz - Dimensions: (512, 512, 129)\n",
            "Label: 1.3.6.1.4.1.14519.5.2.1.6279.6001.194465340552956447447896167830.nii.gz - Dimensions: (512, 512, 129)\n",
            "Image: 1.3.6.1.4.1.14519.5.2.1.6279.6001.144438612068946916340281098509_0000.nii.gz - Dimensions: (512, 512, 157)\n",
            "Label: 1.3.6.1.4.1.14519.5.2.1.6279.6001.144438612068946916340281098509.nii.gz - Dimensions: (512, 512, 157)\n",
            "Image: 1.3.6.1.4.1.14519.5.2.1.6279.6001.238522526736091851696274044574_0000.nii.gz - Dimensions: (512, 512, 183)\n",
            "Label: 1.3.6.1.4.1.14519.5.2.1.6279.6001.238522526736091851696274044574.nii.gz - Dimensions: (512, 512, 183)\n",
            "Image: 1.3.6.1.4.1.14519.5.2.1.6279.6001.293757615532132808762625441831_0000.nii.gz - Dimensions: (512, 512, 477)\n",
            "Label: 1.3.6.1.4.1.14519.5.2.1.6279.6001.293757615532132808762625441831.nii.gz - Dimensions: (512, 512, 477)\n",
            "Image: 1.3.6.1.4.1.14519.5.2.1.6279.6001.278660284797073139172446973682_0000.nii.gz - Dimensions: (512, 512, 117)\n",
            "Label: 1.3.6.1.4.1.14519.5.2.1.6279.6001.278660284797073139172446973682.nii.gz - Dimensions: (512, 512, 117)\n",
            "Image: 1.3.6.1.4.1.14519.5.2.1.6279.6001.216882370221919561230873289517_0000.nii.gz - Dimensions: (512, 512, 250)\n",
            "Label: 1.3.6.1.4.1.14519.5.2.1.6279.6001.216882370221919561230873289517.nii.gz - Dimensions: (512, 512, 250)\n",
            "Image: 1.3.6.1.4.1.14519.5.2.1.6279.6001.126121460017257137098781143514_0000.nii.gz - Dimensions: (512, 512, 133)\n",
            "Label: 1.3.6.1.4.1.14519.5.2.1.6279.6001.126121460017257137098781143514.nii.gz - Dimensions: (512, 512, 133)\n",
            "Image: 1.3.6.1.4.1.14519.5.2.1.6279.6001.128023902651233986592378348912_0000.nii.gz - Dimensions: (512, 512, 133)\n",
            "Label: 1.3.6.1.4.1.14519.5.2.1.6279.6001.128023902651233986592378348912.nii.gz - Dimensions: (512, 512, 133)\n",
            "Image: 1.3.6.1.4.1.14519.5.2.1.6279.6001.294188507421106424248264912111_0000.nii.gz - Dimensions: (512, 512, 250)\n",
            "Label: 1.3.6.1.4.1.14519.5.2.1.6279.6001.294188507421106424248264912111.nii.gz - Dimensions: (512, 512, 250)\n",
            "Image: 1.3.6.1.4.1.14519.5.2.1.6279.6001.124154461048929153767743874565_0000.nii.gz - Dimensions: (512, 512, 195)\n",
            "Label: 1.3.6.1.4.1.14519.5.2.1.6279.6001.124154461048929153767743874565.nii.gz - Dimensions: (512, 512, 195)\n",
            "Image: 1.3.6.1.4.1.14519.5.2.1.6279.6001.108197895896446896160048741492_0000.nii.gz - Dimensions: (512, 512, 119)\n",
            "Label: 1.3.6.1.4.1.14519.5.2.1.6279.6001.108197895896446896160048741492.nii.gz - Dimensions: (512, 512, 119)\n",
            "Image: 1.3.6.1.4.1.14519.5.2.1.6279.6001.130438550890816550994739120843_0000.nii.gz - Dimensions: (512, 512, 274)\n",
            "Label: 1.3.6.1.4.1.14519.5.2.1.6279.6001.130438550890816550994739120843.nii.gz - Dimensions: (512, 512, 274)\n",
            "Image: 1.3.6.1.4.1.14519.5.2.1.6279.6001.188209889686363159853715266493_0000.nii.gz - Dimensions: (512, 512, 147)\n",
            "Label: 1.3.6.1.4.1.14519.5.2.1.6279.6001.188209889686363159853715266493.nii.gz - Dimensions: (512, 512, 147)\n",
            "Image: 1.3.6.1.4.1.14519.5.2.1.6279.6001.269689294231892620436462818860_0000.nii.gz - Dimensions: (512, 512, 123)\n",
            "Label: 1.3.6.1.4.1.14519.5.2.1.6279.6001.269689294231892620436462818860.nii.gz - Dimensions: (512, 512, 123)\n",
            "Image: 1.3.6.1.4.1.14519.5.2.1.6279.6001.295420274214095686326263147663_0000.nii.gz - Dimensions: (512, 512, 244)\n",
            "Label: 1.3.6.1.4.1.14519.5.2.1.6279.6001.295420274214095686326263147663.nii.gz - Dimensions: (512, 512, 244)\n",
            "Image: 1.3.6.1.4.1.14519.5.2.1.6279.6001.141069661700670042960678408762_0000.nii.gz - Dimensions: (512, 512, 280)\n",
            "Label: 1.3.6.1.4.1.14519.5.2.1.6279.6001.141069661700670042960678408762.nii.gz - Dimensions: (512, 512, 280)\n",
            "Image: 1.3.6.1.4.1.14519.5.2.1.6279.6001.295298571102631191572192562523_0000.nii.gz - Dimensions: (512, 512, 232)\n",
            "Label: 1.3.6.1.4.1.14519.5.2.1.6279.6001.295298571102631191572192562523.nii.gz - Dimensions: (512, 512, 232)\n",
            "Image: 1.3.6.1.4.1.14519.5.2.1.6279.6001.250438451287314206124484591986_0000.nii.gz - Dimensions: (512, 512, 221)\n",
            "Label: 1.3.6.1.4.1.14519.5.2.1.6279.6001.250438451287314206124484591986.nii.gz - Dimensions: (512, 512, 221)\n",
            "Image: 1.3.6.1.4.1.14519.5.2.1.6279.6001.303421828981831854739626597495_0000.nii.gz - Dimensions: (512, 512, 300)\n",
            "Label: 1.3.6.1.4.1.14519.5.2.1.6279.6001.303421828981831854739626597495.nii.gz - Dimensions: (512, 512, 300)\n",
            "Image: 1.3.6.1.4.1.14519.5.2.1.6279.6001.139258777898746693365877042411_0000.nii.gz - Dimensions: (512, 512, 588)\n",
            "Label: 1.3.6.1.4.1.14519.5.2.1.6279.6001.139258777898746693365877042411.nii.gz - Dimensions: (512, 512, 588)\n",
            "Image: 1.3.6.1.4.1.14519.5.2.1.6279.6001.219909753224298157409438012179_0000.nii.gz - Dimensions: (512, 512, 141)\n",
            "Label: 1.3.6.1.4.1.14519.5.2.1.6279.6001.219909753224298157409438012179.nii.gz - Dimensions: (512, 512, 141)\n",
            "Image: 1.3.6.1.4.1.14519.5.2.1.6279.6001.105756658031515062000744821260_0000.nii.gz - Dimensions: (512, 512, 121)\n",
            "Label: 1.3.6.1.4.1.14519.5.2.1.6279.6001.105756658031515062000744821260.nii.gz - Dimensions: (512, 512, 121)\n",
            "Image: 1.3.6.1.4.1.14519.5.2.1.6279.6001.129055977637338639741695800950_0000.nii.gz - Dimensions: (512, 512, 483)\n",
            "Label: 1.3.6.1.4.1.14519.5.2.1.6279.6001.129055977637338639741695800950.nii.gz - Dimensions: (512, 512, 483)\n",
            "Image: 1.3.6.1.4.1.14519.5.2.1.6279.6001.277445975068759205899107114231_0000.nii.gz - Dimensions: (512, 512, 177)\n",
            "Label: 1.3.6.1.4.1.14519.5.2.1.6279.6001.277445975068759205899107114231.nii.gz - Dimensions: (512, 512, 177)\n",
            "Image: 1.3.6.1.4.1.14519.5.2.1.6279.6001.137763212752154081977261297097_0000.nii.gz - Dimensions: (512, 512, 246)\n",
            "Label: 1.3.6.1.4.1.14519.5.2.1.6279.6001.137763212752154081977261297097.nii.gz - Dimensions: (512, 512, 246)\n",
            "Image: 1.3.6.1.4.1.14519.5.2.1.6279.6001.187451715205085403623595258748_0000.nii.gz - Dimensions: (512, 512, 125)\n",
            "Label: 1.3.6.1.4.1.14519.5.2.1.6279.6001.187451715205085403623595258748.nii.gz - Dimensions: (512, 512, 125)\n",
            "Image: 1.3.6.1.4.1.14519.5.2.1.6279.6001.210837812047373739447725050963_0000.nii.gz - Dimensions: (512, 512, 194)\n",
            "Label: 1.3.6.1.4.1.14519.5.2.1.6279.6001.210837812047373739447725050963.nii.gz - Dimensions: (512, 512, 194)\n",
            "Image: 1.3.6.1.4.1.14519.5.2.1.6279.6001.231645134739451754302647733304_0000.nii.gz - Dimensions: (512, 512, 255)\n",
            "Label: 1.3.6.1.4.1.14519.5.2.1.6279.6001.231645134739451754302647733304.nii.gz - Dimensions: (512, 512, 255)\n",
            "Image: 1.3.6.1.4.1.14519.5.2.1.6279.6001.138080888843357047811238713686_0000.nii.gz - Dimensions: (512, 512, 295)\n",
            "Label: 1.3.6.1.4.1.14519.5.2.1.6279.6001.138080888843357047811238713686.nii.gz - Dimensions: (512, 512, 295)\n",
            "Image: 1.3.6.1.4.1.14519.5.2.1.6279.6001.202811684116768680758082619196_0000.nii.gz - Dimensions: (512, 512, 133)\n",
            "Label: 1.3.6.1.4.1.14519.5.2.1.6279.6001.202811684116768680758082619196.nii.gz - Dimensions: (512, 512, 133)\n",
            "Image: 1.3.6.1.4.1.14519.5.2.1.6279.6001.213140617640021803112060161074_0000.nii.gz - Dimensions: (512, 512, 276)\n",
            "Label: 1.3.6.1.4.1.14519.5.2.1.6279.6001.213140617640021803112060161074.nii.gz - Dimensions: (512, 512, 276)\n",
            "Image: 1.3.6.1.4.1.14519.5.2.1.6279.6001.126264578931778258890371755354_0000.nii.gz - Dimensions: (512, 512, 672)\n",
            "Label: 1.3.6.1.4.1.14519.5.2.1.6279.6001.126264578931778258890371755354.nii.gz - Dimensions: (512, 512, 672)\n"
          ]
        }
      ],
      "source": [
        "import nibabel as nib\n",
        "import os\n",
        "\n",
        "def get_nifti_dimensions(nifti_file):\n",
        "    img = nib.load(nifti_file)\n",
        "    return img.shape\n",
        "\n",
        "image_folder = '/content/gdrive/MyDrive/Task004/imagesTr'\n",
        "label_folder = '/content/gdrive/MyDrive/Task004/labelsTr'\n",
        "\n",
        "# Assuming filenames are consistent between images and labels\n",
        "for image_file in os.listdir(image_folder):\n",
        "    if image_file.endswith('_0000.nii.gz'):\n",
        "        label_file = image_file.replace('_0000.nii.gz', '.nii.gz')\n",
        "\n",
        "        image_path = os.path.join(image_folder, image_file)\n",
        "        label_path = os.path.join(label_folder, label_file)\n",
        "\n",
        "        image_dims = get_nifti_dimensions(image_path)\n",
        "        label_dims = get_nifti_dimensions(label_path)\n",
        "\n",
        "        print(f\"Image: {image_file} - Dimensions: {image_dims}\")\n",
        "        print(f\"Label: {label_file} - Dimensions: {label_dims}\")\n"
      ]
    },
    {
      "cell_type": "code",
      "execution_count": 3,
      "metadata": {
        "colab": {
          "base_uri": "https://localhost:8080/"
        },
        "id": "YCozZ8lrGMUG",
        "outputId": "8a4bf9f3-0342-4674-95cf-8f27415e6179"
      },
      "outputs": [
        {
          "output_type": "stream",
          "name": "stdout",
          "text": [
            "Requirement already satisfied: tensorflow in /usr/local/lib/python3.10/dist-packages (2.15.0)\n",
            "Requirement already satisfied: absl-py>=1.0.0 in /usr/local/lib/python3.10/dist-packages (from tensorflow) (1.4.0)\n",
            "Requirement already satisfied: astunparse>=1.6.0 in /usr/local/lib/python3.10/dist-packages (from tensorflow) (1.6.3)\n",
            "Requirement already satisfied: flatbuffers>=23.5.26 in /usr/local/lib/python3.10/dist-packages (from tensorflow) (23.5.26)\n",
            "Requirement already satisfied: gast!=0.5.0,!=0.5.1,!=0.5.2,>=0.2.1 in /usr/local/lib/python3.10/dist-packages (from tensorflow) (0.5.4)\n",
            "Requirement already satisfied: google-pasta>=0.1.1 in /usr/local/lib/python3.10/dist-packages (from tensorflow) (0.2.0)\n",
            "Requirement already satisfied: h5py>=2.9.0 in /usr/local/lib/python3.10/dist-packages (from tensorflow) (3.9.0)\n",
            "Requirement already satisfied: libclang>=13.0.0 in /usr/local/lib/python3.10/dist-packages (from tensorflow) (16.0.6)\n",
            "Requirement already satisfied: ml-dtypes~=0.2.0 in /usr/local/lib/python3.10/dist-packages (from tensorflow) (0.2.0)\n",
            "Requirement already satisfied: numpy<2.0.0,>=1.23.5 in /usr/local/lib/python3.10/dist-packages (from tensorflow) (1.23.5)\n",
            "Requirement already satisfied: opt-einsum>=2.3.2 in /usr/local/lib/python3.10/dist-packages (from tensorflow) (3.3.0)\n",
            "Requirement already satisfied: packaging in /usr/local/lib/python3.10/dist-packages (from tensorflow) (23.2)\n",
            "Requirement already satisfied: protobuf!=4.21.0,!=4.21.1,!=4.21.2,!=4.21.3,!=4.21.4,!=4.21.5,<5.0.0dev,>=3.20.3 in /usr/local/lib/python3.10/dist-packages (from tensorflow) (3.20.3)\n",
            "Requirement already satisfied: setuptools in /usr/local/lib/python3.10/dist-packages (from tensorflow) (67.7.2)\n",
            "Requirement already satisfied: six>=1.12.0 in /usr/local/lib/python3.10/dist-packages (from tensorflow) (1.16.0)\n",
            "Requirement already satisfied: termcolor>=1.1.0 in /usr/local/lib/python3.10/dist-packages (from tensorflow) (2.4.0)\n",
            "Requirement already satisfied: typing-extensions>=3.6.6 in /usr/local/lib/python3.10/dist-packages (from tensorflow) (4.5.0)\n",
            "Requirement already satisfied: wrapt<1.15,>=1.11.0 in /usr/local/lib/python3.10/dist-packages (from tensorflow) (1.14.1)\n",
            "Requirement already satisfied: tensorflow-io-gcs-filesystem>=0.23.1 in /usr/local/lib/python3.10/dist-packages (from tensorflow) (0.35.0)\n",
            "Requirement already satisfied: grpcio<2.0,>=1.24.3 in /usr/local/lib/python3.10/dist-packages (from tensorflow) (1.60.0)\n",
            "Requirement already satisfied: tensorboard<2.16,>=2.15 in /usr/local/lib/python3.10/dist-packages (from tensorflow) (2.15.1)\n",
            "Requirement already satisfied: tensorflow-estimator<2.16,>=2.15.0 in /usr/local/lib/python3.10/dist-packages (from tensorflow) (2.15.0)\n",
            "Requirement already satisfied: keras<2.16,>=2.15.0 in /usr/local/lib/python3.10/dist-packages (from tensorflow) (2.15.0)\n",
            "Requirement already satisfied: wheel<1.0,>=0.23.0 in /usr/local/lib/python3.10/dist-packages (from astunparse>=1.6.0->tensorflow) (0.42.0)\n",
            "Requirement already satisfied: google-auth<3,>=1.6.3 in /usr/local/lib/python3.10/dist-packages (from tensorboard<2.16,>=2.15->tensorflow) (2.17.3)\n",
            "Requirement already satisfied: google-auth-oauthlib<2,>=0.5 in /usr/local/lib/python3.10/dist-packages (from tensorboard<2.16,>=2.15->tensorflow) (1.2.0)\n",
            "Requirement already satisfied: markdown>=2.6.8 in /usr/local/lib/python3.10/dist-packages (from tensorboard<2.16,>=2.15->tensorflow) (3.5.2)\n",
            "Requirement already satisfied: requests<3,>=2.21.0 in /usr/local/lib/python3.10/dist-packages (from tensorboard<2.16,>=2.15->tensorflow) (2.31.0)\n",
            "Requirement already satisfied: tensorboard-data-server<0.8.0,>=0.7.0 in /usr/local/lib/python3.10/dist-packages (from tensorboard<2.16,>=2.15->tensorflow) (0.7.2)\n",
            "Requirement already satisfied: werkzeug>=1.0.1 in /usr/local/lib/python3.10/dist-packages (from tensorboard<2.16,>=2.15->tensorflow) (3.0.1)\n",
            "Requirement already satisfied: cachetools<6.0,>=2.0.0 in /usr/local/lib/python3.10/dist-packages (from google-auth<3,>=1.6.3->tensorboard<2.16,>=2.15->tensorflow) (5.3.2)\n",
            "Requirement already satisfied: pyasn1-modules>=0.2.1 in /usr/local/lib/python3.10/dist-packages (from google-auth<3,>=1.6.3->tensorboard<2.16,>=2.15->tensorflow) (0.3.0)\n",
            "Requirement already satisfied: rsa<5,>=3.1.4 in /usr/local/lib/python3.10/dist-packages (from google-auth<3,>=1.6.3->tensorboard<2.16,>=2.15->tensorflow) (4.9)\n",
            "Requirement already satisfied: requests-oauthlib>=0.7.0 in /usr/local/lib/python3.10/dist-packages (from google-auth-oauthlib<2,>=0.5->tensorboard<2.16,>=2.15->tensorflow) (1.3.1)\n",
            "Requirement already satisfied: charset-normalizer<4,>=2 in /usr/local/lib/python3.10/dist-packages (from requests<3,>=2.21.0->tensorboard<2.16,>=2.15->tensorflow) (3.3.2)\n",
            "Requirement already satisfied: idna<4,>=2.5 in /usr/local/lib/python3.10/dist-packages (from requests<3,>=2.21.0->tensorboard<2.16,>=2.15->tensorflow) (3.6)\n",
            "Requirement already satisfied: urllib3<3,>=1.21.1 in /usr/local/lib/python3.10/dist-packages (from requests<3,>=2.21.0->tensorboard<2.16,>=2.15->tensorflow) (2.0.7)\n",
            "Requirement already satisfied: certifi>=2017.4.17 in /usr/local/lib/python3.10/dist-packages (from requests<3,>=2.21.0->tensorboard<2.16,>=2.15->tensorflow) (2023.11.17)\n",
            "Requirement already satisfied: MarkupSafe>=2.1.1 in /usr/local/lib/python3.10/dist-packages (from werkzeug>=1.0.1->tensorboard<2.16,>=2.15->tensorflow) (2.1.4)\n",
            "Requirement already satisfied: pyasn1<0.6.0,>=0.4.6 in /usr/local/lib/python3.10/dist-packages (from pyasn1-modules>=0.2.1->google-auth<3,>=1.6.3->tensorboard<2.16,>=2.15->tensorflow) (0.5.1)\n",
            "Requirement already satisfied: oauthlib>=3.0.0 in /usr/local/lib/python3.10/dist-packages (from requests-oauthlib>=0.7.0->google-auth-oauthlib<2,>=0.5->tensorboard<2.16,>=2.15->tensorflow) (3.2.2)\n"
          ]
        }
      ],
      "source": [
        "pip install tensorflow"
      ]
    },
    {
      "cell_type": "code",
      "execution_count": 4,
      "metadata": {
        "colab": {
          "base_uri": "https://localhost:8080/"
        },
        "id": "1eUvA6N8GabH",
        "outputId": "b0a75e57-78f9-471e-8a04-3614720d84e7"
      },
      "outputs": [
        {
          "output_type": "stream",
          "name": "stdout",
          "text": [
            "Collecting monai\n",
            "  Downloading monai-1.3.0-202310121228-py3-none-any.whl (1.3 MB)\n",
            "\u001b[2K     \u001b[90m━━━━━━━━━━━━━━━━━━━━━━━━━━━━━━━━━━━━━━━━\u001b[0m \u001b[32m1.3/1.3 MB\u001b[0m \u001b[31m6.9 MB/s\u001b[0m eta \u001b[36m0:00:00\u001b[0m\n",
            "\u001b[?25hRequirement already satisfied: numpy>=1.20 in /usr/local/lib/python3.10/dist-packages (from monai) (1.23.5)\n",
            "Requirement already satisfied: torch>=1.9 in /usr/local/lib/python3.10/dist-packages (from monai) (2.1.0+cu121)\n",
            "Requirement already satisfied: filelock in /usr/local/lib/python3.10/dist-packages (from torch>=1.9->monai) (3.13.1)\n",
            "Requirement already satisfied: typing-extensions in /usr/local/lib/python3.10/dist-packages (from torch>=1.9->monai) (4.5.0)\n",
            "Requirement already satisfied: sympy in /usr/local/lib/python3.10/dist-packages (from torch>=1.9->monai) (1.12)\n",
            "Requirement already satisfied: networkx in /usr/local/lib/python3.10/dist-packages (from torch>=1.9->monai) (3.2.1)\n",
            "Requirement already satisfied: jinja2 in /usr/local/lib/python3.10/dist-packages (from torch>=1.9->monai) (3.1.3)\n",
            "Requirement already satisfied: fsspec in /usr/local/lib/python3.10/dist-packages (from torch>=1.9->monai) (2023.6.0)\n",
            "Requirement already satisfied: triton==2.1.0 in /usr/local/lib/python3.10/dist-packages (from torch>=1.9->monai) (2.1.0)\n",
            "Requirement already satisfied: MarkupSafe>=2.0 in /usr/local/lib/python3.10/dist-packages (from jinja2->torch>=1.9->monai) (2.1.4)\n",
            "Requirement already satisfied: mpmath>=0.19 in /usr/local/lib/python3.10/dist-packages (from sympy->torch>=1.9->monai) (1.3.0)\n",
            "Installing collected packages: monai\n",
            "Successfully installed monai-1.3.0\n"
          ]
        }
      ],
      "source": [
        "pip install monai"
      ]
    },
    {
      "cell_type": "code",
      "execution_count": 5,
      "metadata": {
        "colab": {
          "base_uri": "https://localhost:8080/"
        },
        "id": "pLqZDSlqvYrE",
        "outputId": "a1aa14fa-9456-457e-8b61-9a3ccb551cb8"
      },
      "outputs": [
        {
          "output_type": "stream",
          "name": "stdout",
          "text": [
            "Collecting SimpleITK\n",
            "  Downloading SimpleITK-2.3.1-cp310-cp310-manylinux_2_17_x86_64.manylinux2014_x86_64.whl (52.7 MB)\n",
            "\u001b[2K     \u001b[90m━━━━━━━━━━━━━━━━━━━━━━━━━━━━━━━━━━━━━━━━\u001b[0m \u001b[32m52.7/52.7 MB\u001b[0m \u001b[31m10.4 MB/s\u001b[0m eta \u001b[36m0:00:00\u001b[0m\n",
            "\u001b[?25hInstalling collected packages: SimpleITK\n",
            "Successfully installed SimpleITK-2.3.1\n"
          ]
        }
      ],
      "source": [
        "pip install SimpleITK"
      ]
    },
    {
      "cell_type": "markdown",
      "source": [
        "##**Image Resizing and Visualisation**\n",
        "\n",
        "> This cell defines a function for resizing images using cropping or padding. It then visualizes a slice from the middle of a pair of images and labels after resizing."
      ],
      "metadata": {
        "id": "fTSFn_wcg21r"
      }
    },
    {
      "cell_type": "code",
      "execution_count": 6,
      "metadata": {
        "colab": {
          "base_uri": "https://localhost:8080/",
          "height": 505
        },
        "id": "k4rK5DqJsF_F",
        "outputId": "de0c4c7e-a382-48cb-e497-c6ced04b8224"
      },
      "outputs": [
        {
          "output_type": "display_data",
          "data": {
            "text/plain": [
              "<Figure size 1200x600 with 2 Axes>"
            ],
            "image/png": "[encoded data removed]"
          },
          "metadata": {}
        }
      ],
      "source": [
        "import os\n",
        "import SimpleITK as sitk\n",
        "import numpy as np\n",
        "import matplotlib.pyplot as plt\n",
        "\n",
        "def resize_image_with_crop_or_pad(image, img_size=None, **kwargs):\n",
        "    \"\"\"Image resizing. Resizes image by cropping or padding dimension\n",
        "     to fit specified size.\n",
        "    Args:\n",
        "        image (np.ndarray): image to be resized\n",
        "        img_size (list or tuple): new image size\n",
        "        kwargs (): additional arguments to be passed to np.pad\n",
        "    Returns:\n",
        "        np.ndarray: resized image\n",
        "    \"\"\"\n",
        "\n",
        "    assert isinstance(image, (np.ndarray, np.generic))\n",
        "    assert (image.ndim - 1 == len(img_size) or image.ndim == len(img_size)), \\\n",
        "        'Example size doesnt fit image size'\n",
        "\n",
        "    # Get the image dimensionality\n",
        "    rank = len(img_size)\n",
        "\n",
        "    # Create placeholders for the new shape\n",
        "    from_indices = [[0, image.shape[dim]] for dim in range(rank)]\n",
        "    to_padding = [[0, 0] for dim in range(rank)]\n",
        "\n",
        "    slicer = [slice(None)] * rank\n",
        "\n",
        "    # For each dimensions find whether it is supposed to be cropped or padded\n",
        "    for i in range(rank):\n",
        "        if image.shape[i] < img_size[i]:\n",
        "            to_padding[i][0] = (img_size[i] - image.shape[i]) // 2\n",
        "            to_padding[i][1] = img_size[i] - image.shape[i] - to_padding[i][0]\n",
        "        else:\n",
        "            from_indices[i][0] = int(np.floor((image.shape[i] - img_size[i]) / 2.))\n",
        "            from_indices[i][1] = from_indices[i][0] + img_size[i]\n",
        "\n",
        "        # Create slicer object to crop or leave each dimension\n",
        "        slicer[i] = slice(from_indices[i][0], from_indices[i][1])\n",
        "\n",
        "    # Pad the cropped image to extend the missing dimension\n",
        "    return np.pad(image[tuple(slicer)], to_padding, **kwargs)\n",
        "\n",
        "def visualize_slice(image, label, slice_index):\n",
        "    plt.figure(figsize=(12, 6))\n",
        "\n",
        "    plt.subplot(1, 2, 1)\n",
        "    plt.imshow(image[slice_index], cmap='gray')\n",
        "    plt.title('Resized Image Slice')\n",
        "\n",
        "    plt.subplot(1, 2, 2)\n",
        "    plt.imshow(label[slice_index], cmap='gray')\n",
        "    plt.title('Resized Label Slice')\n",
        "\n",
        "    plt.show()\n",
        "\n",
        "# Set the path to the folders\n",
        "images_folder = '/content/gdrive/MyDrive/segnetfinal/images1'\n",
        "labels_folder = '/content/gdrive/MyDrive/segnetfinal/labels1'\n",
        "\n",
        "# Get the list of files in the folders\n",
        "image_files = os.listdir(images_folder)\n",
        "label_files = os.listdir(labels_folder)\n",
        "\n",
        "# Set the target dimensions\n",
        "target_dimensions = (512,512,512)\n",
        "\n",
        "# Assuming you want to visualize only the first pair of image and label\n",
        "if image_files and label_files:\n",
        "    image_file = image_files[0]\n",
        "    label_file = label_files[0]\n",
        "\n",
        "    # Construct the full paths\n",
        "    image_path = os.path.join(images_folder, image_file)\n",
        "    label_path = os.path.join(labels_folder, label_file)\n",
        "\n",
        "    # Read the image and label\n",
        "    img_sitk = sitk.ReadImage(image_path, sitk.sitkFloat32)\n",
        "    mask_sitk = sitk.ReadImage(label_path, sitk.sitkInt32)\n",
        "\n",
        "    # Convert images to numpy arrays\n",
        "    image_np = sitk.GetArrayFromImage(img_sitk)\n",
        "    mask_np = sitk.GetArrayFromImage(mask_sitk)\n",
        "\n",
        "    # Resize images using crop or pad\n",
        "    resized_image_np = resize_image_with_crop_or_pad(image_np, img_size=target_dimensions, mode='constant')\n",
        "    resized_mask_np = resize_image_with_crop_or_pad(mask_np, img_size=target_dimensions, mode='constant')\n",
        "\n",
        "    # Visualize a slice from the middle of the volumes\n",
        "    middle_slice_index = target_dimensions[0] // 2\n",
        "    visualize_slice(resized_image_np, resized_mask_np, middle_slice_index)\n"
      ]
    },
    {
      "cell_type": "markdown",
      "source": [
        "##**Data Path Preparation**\n",
        "\n",
        "> This cell prepares file paths for training and validation by pairing image and label paths. It assumes consistent naming conventions for images and labels and splits the data into training and validation sets based on a specified ratio."
      ],
      "metadata": {
        "id": "ExV8VaELhCuU"
      }
    },
    {
      "cell_type": "code",
      "execution_count": 7,
      "metadata": {
        "id": "w-KDSMl7GdPf"
      },
      "outputs": [],
      "source": [
        "import os\n",
        "\n",
        "# Directories for images and labels\n",
        "image_dir = '/content/gdrive/MyDrive/segnetfinal/images1'\n",
        "label_dir = '/content/gdrive/MyDrive/segnetfinal/labels1'\n",
        "\n",
        "# Lists to store file paths\n",
        "train_image_paths = []\n",
        "train_label_paths = []\n",
        "\n",
        "# Iterate through the image directory and pair each image with its label\n",
        "for image_filename in os.listdir(image_dir):\n",
        "    if image_filename.endswith('_0000.nii.gz'):\n",
        "        image_path = os.path.join(image_dir, image_filename)\n",
        "\n",
        "        # Construct the corresponding label's filename and path\n",
        "        label_filename = image_filename.replace('_0000.nii.gz', '.nii.gz')\n",
        "        label_path = os.path.join(label_dir, label_filename)\n",
        "\n",
        "        # Add the paths to the lists\n",
        "        train_image_paths.append(image_path)\n",
        "        train_label_paths.append(label_path)\n",
        "\n",
        "# Zip the image and label paths together\n",
        "train_images_and_labels = list(zip(train_image_paths, train_label_paths))\n",
        "\n",
        "# Assuming you'll use some portion of the data for validation\n",
        "# Split the data into training and validation sets\n",
        "split_ratio = 0.8  # For example, 80% for training and 20% for validation\n",
        "split_index = int(len(train_images_and_labels) * split_ratio)\n",
        "\n",
        "train_files = [{'image': img_path, 'label': label_path} for img_path, label_path in train_images_and_labels[:split_index]]\n",
        "val_files = [{'image': img_path, 'label': label_path} for img_path, label_path in train_images_and_labels[split_index:]]\n",
        "\n"
      ]
    },
    {
      "cell_type": "markdown",
      "source": [
        "##**Data Training and Validation**\n",
        "\n",
        "> This cell defines data augmentation transforms using the MONAI library.\n",
        "\n",
        "> It includes operations like intensity scaling, rotation, flipping, noise addition, contrast adjustment, and affine transformations. These transforms are applied to both training and validation datasets.\n"
      ],
      "metadata": {
        "id": "skQFRuY_hNGe"
      }
    },
    {
      "cell_type": "code",
      "execution_count": 8,
      "metadata": {
        "id": "DAO7zFdAGkYO"
      },
      "outputs": [],
      "source": [
        "import torch\n",
        "import numpy as np\n",
        "from torch.optim.lr_scheduler import StepLR\n",
        "from monai.transforms import (\n",
        "    Compose, LoadImaged, ScaleIntensityRanged,\n",
        "    RandRotate90d, RandFlipd, ToTensord,\n",
        "    RandGaussianNoised, RandAdjustContrastd, RandAffined\n",
        ")\n",
        "from monai.data import DataLoader, Dataset\n",
        "from monai.networks.nets import UNet\n",
        "from monai.metrics import DiceMetric\n",
        "from monai.losses import DiceLoss\n",
        "from monai.inferers import sliding_window_inference\n",
        "from monai.transforms import Transform\n",
        "\n",
        "# Custom AddChannel Transform\n",
        "class AddChannel(Transform):\n",
        "    def __call__(self, data):\n",
        "        # Assumes data is a dictionary with 'image' and 'label' keys\n",
        "        for key in data.keys():\n",
        "            data[key] = data[key][None]  # Add a channel dimension\n",
        "        return data\n",
        "\n",
        "train_transforms = Compose([\n",
        "    LoadImaged(keys=[\"image\", \"label\"]),\n",
        "    AddChannel(),\n",
        "    ScaleIntensityRanged(keys=[\"image\"], a_min=-1000, a_max=400, b_min=0.0, b_max=1.0, clip=True),\n",
        "    RandRotate90d(keys=[\"image\", \"label\"], prob=0.5, spatial_axes=[1, 2]),\n",
        "    RandFlipd(keys=[\"image\", \"label\"], spatial_axis=0, prob=0.5),\n",
        "    RandGaussianNoised(keys=[\"image\"], prob=0.5),\n",
        "    RandAdjustContrastd(keys=[\"image\"], prob=0.5),\n",
        "    RandAffined(keys=[\"image\", \"label\"], mode=('bilinear', 'nearest'), prob=0.5,\n",
        "                rotate_range=(0, 0, np.pi/15),\n",
        "                scale_range=(0.1, 0.1, 0.1),\n",
        "                shear_range=np.pi/6,\n",
        "                translate_range=(10, 10, 10)),\n",
        "    ToTensord(keys=[\"image\", \"label\"])\n",
        "])\n",
        "\n",
        "# Validation Transforms\n",
        "val_transforms = Compose([\n",
        "    LoadImaged(keys=[\"image\", \"label\"]),\n",
        "    AddChannel(),\n",
        "    ScaleIntensityRanged(keys=[\"image\"], a_min=-1000, a_max=400, b_min=0.0, b_max=1.0, clip=True),\n",
        "    ToTensord(keys=[\"image\", \"label\"])\n",
        "])\n"
      ]
    },
    {
      "cell_type": "markdown",
      "source": [
        "##**Model Definition and Configuration**\n",
        "\n",
        "> This cell defines a 3D U-Net model using the MONAI library.\n",
        "\n",
        "> It specifies the model's architecture, optimizer (Stochastic Gradient Descent), learning rate scheduler (ReduceLROnPlateau), and loss function (DiceCELoss)."
      ],
      "metadata": {
        "id": "1i1vKCNkhYbN"
      }
    },
    {
      "cell_type": "code",
      "execution_count": 9,
      "metadata": {
        "id": "KA59FiYYIi66"
      },
      "outputs": [],
      "source": [
        "import torch\n",
        "from monai.networks.nets import UNet\n",
        "from monai.losses import DiceCELoss\n",
        "from torch.optim import SGD\n",
        "from torch.optim.lr_scheduler import ReduceLROnPlateau\n",
        "\n",
        "# Define the device\n",
        "device = torch.device(\"cuda\" if torch.cuda.is_available() else \"cpu\")\n",
        "\n",
        "# Adjust the U-Net architecture\n",
        "model = UNet(\n",
        "    spatial_dims=3,\n",
        "    in_channels=1,\n",
        "    out_channels=2,  # Number of classes\n",
        "    channels=(32, 64, 128, 256, 512),  # Increased channel numbers\n",
        "    strides=(2, 2, 2, 2),  # Strides remain the same\n",
        "    num_res_units=2,\n",
        ").to(device)\n",
        "\n",
        "# Define the optimizer with a lower learning rate\n",
        "optimizer = SGD(model.parameters(), lr=0.0001, momentum=0.9)  # Adjust the learning rate\n",
        "\n",
        "# Define the learning rate scheduler\n",
        "scheduler = ReduceLROnPlateau(optimizer, 'min', factor=0.1, patience=3)\n",
        "\n",
        "# Define the loss function\n",
        "loss_function = DiceCELoss(to_onehot_y=True, softmax=True)\n"
      ]
    },
    {
      "cell_type": "code",
      "execution_count": 10,
      "metadata": {
        "colab": {
          "base_uri": "https://localhost:8080/"
        },
        "id": "4heX-EJKJMC9",
        "outputId": "e7b81569-5d8f-49f4-a2c9-a7d942258799"
      },
      "outputs": [
        {
          "output_type": "stream",
          "name": "stderr",
          "text": [
            "/usr/local/lib/python3.10/dist-packages/torch/utils/data/dataloader.py:557: UserWarning: This DataLoader will create 4 worker processes in total. Our suggested max number of worker in current system is 2, which is smaller than what this DataLoader is going to create. Please be aware that excessive worker creation might get DataLoader running slow or even freeze, lower the worker number to avoid potential slowness/freeze if necessary.\n",
            "  warnings.warn(_create_warning_msg(\n"
          ]
        }
      ],
      "source": [
        "train_ds = Dataset(data=train_files, transform=train_transforms)\n",
        "from monai.data import pad_list_data_collate\n",
        "\n",
        "# Update your DataLoaders to use the custom collate function\n",
        "train_loader = DataLoader(train_ds, batch_size=2, shuffle=True, num_workers=4, collate_fn=pad_list_data_collate)\n",
        "val_ds = Dataset(data=val_files, transform=val_transforms)\n",
        "val_loader = DataLoader(val_ds, batch_size=1, num_workers=4, collate_fn=pad_list_data_collate)\n"
      ]
    },
    {
      "cell_type": "markdown",
      "source": [
        "##**Training Loop and checking accuracy along with Dice Score**\n",
        "\n",
        "> This cell contains the main training loop. It iterates through epochs, performs training and validation, and saves the best model based on the Dice metric. The learning rate is adjusted using the scheduler. Early stopping is implemented to prevent overfitting."
      ],
      "metadata": {
        "id": "45BDowCWhk90"
      }
    },
    {
      "cell_type": "code",
      "execution_count": 11,
      "metadata": {
        "colab": {
          "base_uri": "https://localhost:8080/"
        },
        "id": "1vUB8C93HA0d",
        "outputId": "c7b9817e-c861-489c-e371-1c2d3eb561fb"
      },
      "outputs": [
        {
          "output_type": "stream",
          "name": "stdout",
          "text": [
            "Epoch 1/20\n",
            "Average training loss: 1.3085\n",
            "Epoch duration: 150.18 seconds\n",
            "Current mean dice: 0.6031\n",
            "Best model saved with mean dice: 0.6031 at epoch 1\n",
            "Epoch 2/20\n",
            "Average training loss: 1.0843\n",
            "Epoch duration: 137.25 seconds\n",
            "Current mean dice: 0.6031\n",
            "No improvement in mean dice for 1 consecutive epochs.\n",
            "Epoch 3/20\n",
            "Average training loss: 0.9507\n",
            "Epoch duration: 133.27 seconds\n",
            "Current mean dice: 0.6031\n",
            "No improvement in mean dice for 2 consecutive epochs.\n",
            "Epoch 4/20\n",
            "Average training loss: 0.8610\n",
            "Epoch duration: 159.65 seconds\n",
            "Current mean dice: 0.6031\n",
            "No improvement in mean dice for 3 consecutive epochs.\n",
            "Epoch 5/20\n",
            "Average training loss: 0.8038\n",
            "Epoch duration: 147.13 seconds\n",
            "Current mean dice: 0.6031\n",
            "No improvement in mean dice for 4 consecutive epochs.\n",
            "Epoch 6/20\n",
            "Average training loss: 0.7583\n",
            "Epoch duration: 179.08 seconds\n",
            "Current mean dice: 0.6031\n",
            "No improvement in mean dice for 5 consecutive epochs.\n",
            "Epoch 7/20\n",
            "Average training loss: 0.7582\n",
            "Epoch duration: 139.72 seconds\n",
            "Current mean dice: 0.6031\n",
            "No improvement in mean dice for 6 consecutive epochs.\n",
            "Epoch 8/20\n",
            "Average training loss: 0.7545\n",
            "Epoch duration: 112.58 seconds\n",
            "Current mean dice: 0.6031\n",
            "No improvement in mean dice for 7 consecutive epochs.\n",
            "Epoch 9/20\n",
            "Average training loss: 0.7453\n",
            "Epoch duration: 167.54 seconds\n",
            "Current mean dice: 0.6031\n",
            "No improvement in mean dice for 8 consecutive epochs.\n",
            "Epoch 10/20\n",
            "Average training loss: 0.7452\n",
            "Epoch duration: 170.45 seconds\n",
            "Current mean dice: 0.6031\n",
            "No improvement in mean dice for 9 consecutive epochs.\n",
            "Epoch 11/20\n",
            "Average training loss: 0.7503\n",
            "Epoch duration: 164.17 seconds\n",
            "Current mean dice: 0.6031\n",
            "No improvement in mean dice for 10 consecutive epochs.\n",
            "Epoch 12/20\n",
            "Average training loss: 0.7443\n",
            "Epoch duration: 142.47 seconds\n",
            "Current mean dice: 0.6031\n",
            "No improvement in mean dice for 11 consecutive epochs.\n",
            "Epoch 13/20\n",
            "Average training loss: 0.7474\n",
            "Epoch duration: 122.74 seconds\n",
            "Current mean dice: 0.6031\n",
            "No improvement in mean dice for 12 consecutive epochs.\n",
            "Epoch 14/20\n",
            "Average training loss: 0.7488\n",
            "Epoch duration: 142.58 seconds\n",
            "Current mean dice: 0.6031\n",
            "No improvement in mean dice for 13 consecutive epochs.\n",
            "Epoch 15/20\n",
            "Average training loss: 0.7399\n",
            "Epoch duration: 143.66 seconds\n",
            "Current mean dice: 0.6031\n",
            "No improvement in mean dice for 14 consecutive epochs.\n",
            "Epoch 16/20\n",
            "Average training loss: 0.7413\n",
            "Epoch duration: 116.52 seconds\n",
            "Current mean dice: 0.6031\n",
            "No improvement in mean dice for 15 consecutive epochs.\n",
            "Epoch 17/20\n",
            "Average training loss: 0.7468\n",
            "Epoch duration: 137.97 seconds\n",
            "Current mean dice: 0.6031\n",
            "No improvement in mean dice for 16 consecutive epochs.\n",
            "Epoch 18/20\n",
            "Average training loss: 0.7418\n",
            "Epoch duration: 149.69 seconds\n",
            "Current mean dice: 0.6031\n",
            "No improvement in mean dice for 17 consecutive epochs.\n",
            "Epoch 19/20\n",
            "Average training loss: 0.7394\n",
            "Epoch duration: 137.82 seconds\n",
            "Current mean dice: 0.6031\n",
            "No improvement in mean dice for 18 consecutive epochs.\n",
            "Epoch 20/20\n",
            "Average training loss: 0.7382\n",
            "Epoch duration: 165.07 seconds\n",
            "Current mean dice: 0.6031\n",
            "No improvement in mean dice for 19 consecutive epochs.\n"
          ]
        }
      ],
      "source": [
        "import time\n",
        "\n",
        "num_epochs = 20  # Adjust as needed\n",
        "best_metric = -1\n",
        "best_metric_epoch = -1\n",
        "max_no_improvement_epochs = 5\n",
        "no_improvement_epochs = 0\n",
        "\n",
        "for epoch in range(num_epochs):\n",
        "    epoch_start_time = time.time()  # Start time for the epoch\n",
        "\n",
        "    print(f\"Epoch {epoch + 1}/{num_epochs}\")\n",
        "\n",
        "    # Training phase\n",
        "    model.train()\n",
        "    train_epoch_loss = 0\n",
        "    for batch_data in train_loader:\n",
        "        inputs, labels = batch_data[\"image\"].to(device), batch_data[\"label\"].to(device)\n",
        "        optimizer.zero_grad()\n",
        "        outputs = model(inputs)\n",
        "        loss = loss_function(outputs, labels)\n",
        "        loss.backward()\n",
        "        optimizer.step()\n",
        "        train_epoch_loss += loss.item()\n",
        "    train_epoch_loss /= len(train_loader)\n",
        "\n",
        "    epoch_duration = time.time() - epoch_start_time  # Calculate the duration for the epoch\n",
        "    print(f\"Average training loss: {train_epoch_loss:.4f}\")\n",
        "    print(f\"Epoch duration: {epoch_duration:.2f} seconds\")\n",
        "\n",
        "    # Validation phase\n",
        "    model.eval()\n",
        "    val_dice_metric = DiceMetric(include_background=False, reduction=\"mean\")\n",
        "    val_loss=0\n",
        "    with torch.no_grad():\n",
        "        for val_data in val_loader:\n",
        "            val_inputs, val_labels = val_data[\"image\"].to(device), val_data[\"label\"].to(device)\n",
        "            val_outputs = sliding_window_inference(val_inputs, (128, 128, 64), 4, model)\n",
        "            val_dice_metric(y_pred=val_outputs, y=val_labels)\n",
        "        metric = val_dice_metric.aggregate().item()\n",
        "        val_dice_metric.reset()\n",
        "        print(f\"Current mean dice: {metric:.4f}\")\n",
        "\n",
        "        if metric > best_metric:\n",
        "            best_metric = metric\n",
        "            best_metric_epoch = epoch + 1\n",
        "            no_improvement_epochs = 0  # Reset counter\n",
        "            checkpoint = {\n",
        "                'epoch': epoch + 1,\n",
        "                'model_state_dict': model.state_dict(),\n",
        "                'optimizer_state_dict': optimizer.state_dict(),\n",
        "                'best_metric': best_metric,\n",
        "            }\n",
        "            torch.save(checkpoint, 'checkpoint_best_model.pth')\n",
        "            print(f\"Best model saved with mean dice: {best_metric:.4f} at epoch {best_metric_epoch}\")\n",
        "        else:\n",
        "            no_improvement_epochs += 1\n",
        "            print(f\"No improvement in mean dice for {no_improvement_epochs} consecutive epochs.\")\n",
        "\n",
        "        scheduler.step(val_loss)"
      ]
    }
  ],
  "metadata": {
    "accelerator": "GPU",
    "colab": {
      "provenance": []
    },
    "kernelspec": {
      "display_name": "Python 3",
      "name": "python3"
    },
    "language_info": {
      "name": "python"
    }
  },
  "nbformat": 4,
  "nbformat_minor": 0
}